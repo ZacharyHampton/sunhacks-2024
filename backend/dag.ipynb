{
 "cells": [
  {
   "cell_type": "code",
   "id": "initial_id",
   "metadata": {
    "collapsed": true,
    "ExecuteTime": {
     "end_time": "2024-09-29T18:16:51.168385Z",
     "start_time": "2024-09-29T18:16:51.087603Z"
    }
   },
   "source": [
    "from langchain_openai.chat_models import ChatOpenAI\n",
    "from langchain_openai.embeddings import OpenAIEmbeddings\n",
    "from langchain_mongodb.vectorstores import MongoDBAtlasVectorSearch\n",
    "from api.core.mongo import db\n",
    "from langchain_core.runnables import RunnablePassthrough\n",
    "from langchain import hub\n",
    "from langchain_core.output_parsers import StrOutputParser\n",
    "from langchain_nomic import NomicEmbeddings\n",
    "from langchain.chains import create_retrieval_chain\n",
    "from langchain.chains.combine_documents import create_stuff_documents_chain"
   ],
   "outputs": [],
   "execution_count": 51
  },
  {
   "metadata": {
    "ExecuteTime": {
     "end_time": "2024-09-29T17:45:48.042624Z",
     "start_time": "2024-09-29T17:45:48.004704Z"
    }
   },
   "cell_type": "code",
   "source": [
    "llm = ChatOpenAI()\n",
    "vector_store = MongoDBAtlasVectorSearch(\n",
    "    collection=db[\"embeddings\"], \n",
    "    embedding=NomicEmbeddings(model=\"nomic-embed-text-v1.5\", inference_mode=\"local\", dimensionality=768),\n",
    "    index_name=\"vector_index\", \n",
    "    relevance_score_fn=\"euclidean\",\n",
    "    text_key=\"text\",\n",
    ")"
   ],
   "id": "dc2a8b3c3db04e9",
   "outputs": [],
   "execution_count": 44
  },
  {
   "metadata": {
    "ExecuteTime": {
     "end_time": "2024-09-29T17:45:48.787829Z",
     "start_time": "2024-09-29T17:45:48.547235Z"
    }
   },
   "cell_type": "code",
   "source": [
    "prompt = hub.pull(\"rlm/rag-prompt\")\n",
    "\n",
    "def format_docs(docs):\n",
    "    return \"\\n\\n\".join(doc.page_content for doc in docs)\n",
    "\n",
    "\n",
    "qa_chain = (\n",
    "    {\n",
    "        \"context\": vector_store.as_retriever() | format_docs,\n",
    "        \"question\": RunnablePassthrough(),\n",
    "    }\n",
    "    | prompt\n",
    "    | llm\n",
    "    | StrOutputParser()\n",
    ")"
   ],
   "id": "b6ce764340614ca9",
   "outputs": [
    {
     "name": "stderr",
     "output_type": "stream",
     "text": [
      "C:\\Users\\holmt\\PycharmProjects\\sunhacks-2024\\venv\\lib\\site-packages\\langsmith\\client.py:323: LangSmithMissingAPIKeyWarning: API key must be provided when using hosted LangSmith API\n",
      "  warnings.warn(\n"
     ]
    }
   ],
   "execution_count": 45
  },
  {
   "metadata": {
    "ExecuteTime": {
     "end_time": "2024-09-29T18:00:56.315072Z",
     "start_time": "2024-09-29T18:00:56.177889Z"
    }
   },
   "cell_type": "code",
   "source": [
    "#: find documents based on a query\n",
    "vector_store.similarity_search(\"What are your most expensive phone?\", k=3)"
   ],
   "id": "822f1df097d6d1f5",
   "outputs": [
    {
     "data": {
      "text/plain": [
       "[Document(metadata={'_id': '66f98aca081255c9e70a616b'}, page_content=''),\n",
       " Document(metadata={'_id': '66f98744081255c9e70a598d'}, page_content=''),\n",
       " Document(metadata={'_id': '66f987f3081255c9e70a5b29'}, page_content='')]"
      ]
     },
     "execution_count": 50,
     "metadata": {},
     "output_type": "execute_result"
    }
   ],
   "execution_count": 50
  },
  {
   "metadata": {
    "ExecuteTime": {
     "end_time": "2024-09-29T18:18:09.113903Z",
     "start_time": "2024-09-29T18:18:07.482432Z"
    }
   },
   "cell_type": "code",
   "source": [
    "retrieval_qa_chat_prompt = hub.pull(\"langchain-ai/retrieval-qa-chat\")\n",
    "\n",
    "combine_docs_chain = create_stuff_documents_chain(llm, retrieval_qa_chat_prompt)\n",
    "rag_chain = create_retrieval_chain(vector_store.as_retriever(), combine_docs_chain)\n",
    "rag_chain.invoke({\"input\": \"What phone should I get? I want an iPhone.\"})"
   ],
   "id": "f386ef03b828a12",
   "outputs": [
    {
     "name": "stderr",
     "output_type": "stream",
     "text": [
      "C:\\Users\\holmt\\PycharmProjects\\sunhacks-2024\\venv\\lib\\site-packages\\langsmith\\client.py:323: LangSmithMissingAPIKeyWarning: API key must be provided when using hosted LangSmith API\n",
      "  warnings.warn(\n"
     ]
    },
    {
     "data": {
      "text/plain": [
       "{'input': 'What phone should I get? I want an iPhone.',\n",
       " 'context': [Document(metadata={'_id': '66f98680081255c9e70a57da'}, page_content=''),\n",
       "  Document(metadata={'_id': '66f98a10081255c9e70a5fd1'}, page_content=''),\n",
       "  Document(metadata={'_id': '66f98a3d081255c9e70a602b'}, page_content=''),\n",
       "  Document(metadata={'_id': '66f98a10081255c9e70a5fce'}, page_content='')],\n",
       " 'answer': 'Based on your preference for an iPhone, you could consider the latest models such as the iPhone 13, iPhone 13 Pro, or iPhone 13 Mini. Each of these models offers different features and price points, so you can choose based on your specific needs and budget.'}"
      ]
     },
     "execution_count": 53,
     "metadata": {},
     "output_type": "execute_result"
    }
   ],
   "execution_count": 53
  },
  {
   "metadata": {},
   "cell_type": "code",
   "outputs": [],
   "execution_count": null,
   "source": "",
   "id": "1af58ac2568c0353"
  }
 ],
 "metadata": {
  "kernelspec": {
   "display_name": "Python 3",
   "language": "python",
   "name": "python3"
  },
  "language_info": {
   "codemirror_mode": {
    "name": "ipython",
    "version": 2
   },
   "file_extension": ".py",
   "mimetype": "text/x-python",
   "name": "python",
   "nbconvert_exporter": "python",
   "pygments_lexer": "ipython2",
   "version": "2.7.6"
  }
 },
 "nbformat": 4,
 "nbformat_minor": 5
}
