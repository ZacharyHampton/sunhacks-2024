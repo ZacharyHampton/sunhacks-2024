{
 "cells": [
  {
   "cell_type": "code",
   "id": "initial_id",
   "metadata": {
    "collapsed": true,
    "ExecuteTime": {
     "end_time": "2024-09-29T11:44:37.447548Z",
     "start_time": "2024-09-29T11:44:31.129013Z"
    }
   },
   "source": [
    "import pandas as pd\n",
    "from api.core.mongo import db\n",
    "from langchain_text_splitters import RecursiveJsonSplitter\n",
    "from langchain_huggingface import HuggingFaceEmbeddings\n",
    "from langchain_mongodb import MongoDBAtlasVectorSearch"
   ],
   "outputs": [],
   "execution_count": 4
  },
  {
   "metadata": {
    "ExecuteTime": {
     "end_time": "2024-09-29T13:00:27.039912Z",
     "start_time": "2024-09-29T13:00:19.556825Z"
    }
   },
   "cell_type": "code",
   "source": "rows = pd.DataFrame(list(db[\"products\"].find({}))).drop(columns=[\"_id\"]).to_dict(orient=\"records\")",
   "id": "d2c086dd0a535c72",
   "outputs": [],
   "execution_count": 13
  },
  {
   "metadata": {
    "ExecuteTime": {
     "end_time": "2024-09-29T13:00:27.272539Z",
     "start_time": "2024-09-29T13:00:27.046792Z"
    }
   },
   "cell_type": "code",
   "source": [
    "splitter = RecursiveJsonSplitter(max_chunk_size=100)\n",
    "docs = splitter.create_documents(texts=rows[0:1000])"
   ],
   "id": "eea83fda5fc16b5b",
   "outputs": [],
   "execution_count": 14
  },
  {
   "metadata": {
    "ExecuteTime": {
     "end_time": "2024-09-29T11:45:26.521178Z",
     "start_time": "2024-09-29T11:45:09.469535Z"
    }
   },
   "cell_type": "code",
   "source": [
    "# Load the embedding model (https://huggingface.co/nomic-ai/nomic-embed-text-v1\")\n",
    "model = HuggingFaceEmbeddings(model_name=\"nomic-ai/nomic-embed-text-v1\", model_kwargs={ \"trust_remote_code\": True })"
   ],
   "id": "56d24f80d506d36",
   "outputs": [
    {
     "name": "stderr",
     "output_type": "stream",
     "text": [
      "C:\\Users\\holmt\\PycharmProjects\\sunhacks-2024\\venv\\lib\\site-packages\\sentence_transformers\\cross_encoder\\CrossEncoder.py:13: TqdmWarning: IProgress not found. Please update jupyter and ipywidgets. See https://ipywidgets.readthedocs.io/en/stable/user_install.html\n",
      "  from tqdm.autonotebook import tqdm, trange\n",
      "C:\\Users\\holmt\\PycharmProjects\\sunhacks-2024\\venv\\lib\\site-packages\\huggingface_hub\\file_download.py:147: UserWarning: `huggingface_hub` cache-system uses symlinks by default to efficiently store duplicated files but your machine does not support them in C:\\Users\\holmt\\.cache\\huggingface\\hub\\models--nomic-ai--nomic-embed-text-v1. Caching files will still work but in a degraded version that might require more space on your disk. This warning can be disabled by setting the `HF_HUB_DISABLE_SYMLINKS_WARNING` environment variable. For more details, see https://huggingface.co/docs/huggingface_hub/how-to-cache#limitations.\n",
      "To support symlinks on Windows, you either need to activate Developer Mode or to run Python as an administrator. In order to activate developer mode, see this article: https://docs.microsoft.com/en-us/windows/apps/get-started/enable-your-device-for-development\n",
      "  warnings.warn(message)\n",
      "C:\\Users\\holmt\\PycharmProjects\\sunhacks-2024\\venv\\lib\\site-packages\\huggingface_hub\\file_download.py:147: UserWarning: `huggingface_hub` cache-system uses symlinks by default to efficiently store duplicated files but your machine does not support them in C:\\Users\\holmt\\.cache\\huggingface\\hub\\models--nomic-ai--nomic-bert-2048. Caching files will still work but in a degraded version that might require more space on your disk. This warning can be disabled by setting the `HF_HUB_DISABLE_SYMLINKS_WARNING` environment variable. For more details, see https://huggingface.co/docs/huggingface_hub/how-to-cache#limitations.\n",
      "To support symlinks on Windows, you either need to activate Developer Mode or to run Python as an administrator. In order to activate developer mode, see this article: https://docs.microsoft.com/en-us/windows/apps/get-started/enable-your-device-for-development\n",
      "  warnings.warn(message)\n",
      "A new version of the following files was downloaded from https://huggingface.co/nomic-ai/nomic-bert-2048:\n",
      "- configuration_hf_nomic_bert.py\n",
      ". Make sure to double-check they do not contain any added malicious code. To avoid downloading new versions of the code file, you can pin a revision.\n",
      "A new version of the following files was downloaded from https://huggingface.co/nomic-ai/nomic-bert-2048:\n",
      "- modeling_hf_nomic_bert.py\n",
      ". Make sure to double-check they do not contain any added malicious code. To avoid downloading new versions of the code file, you can pin a revision.\n",
      "C:\\Users\\holmt\\.cache\\huggingface\\modules\\transformers_modules\\nomic-ai\\nomic-bert-2048\\4bb68f63016e88e53e48df904c6ab4e6f718e198\\modeling_hf_nomic_bert.py:98: FutureWarning: You are using `torch.load` with `weights_only=False` (the current default value), which uses the default pickle module implicitly. It is possible to construct malicious pickle data which will execute arbitrary code during unpickling (See https://github.com/pytorch/pytorch/blob/main/SECURITY.md#untrusted-models for more details). In a future release, the default value for `weights_only` will be flipped to `True`. This limits the functions that could be executed during unpickling. Arbitrary objects will no longer be allowed to be loaded via this mode unless they are explicitly allowlisted by the user via `torch.serialization.add_safe_globals`. We recommend you start setting `weights_only=True` for any use case where you don't have full control of the loaded file. Please open an issue on GitHub for any issues related to this experimental feature.\n",
      "  state_dict = loader(resolved_archive_file)\n",
      "<All keys matched successfully>\n"
     ]
    }
   ],
   "execution_count": 7
  },
  {
   "metadata": {
    "ExecuteTime": {
     "end_time": "2024-09-29T13:09:28.643257Z",
     "start_time": "2024-09-29T13:05:37.228878Z"
    }
   },
   "cell_type": "code",
   "source": [
    "# Store the data as vector embeddings in Atlas\n",
    "\n",
    "#: import os\n",
    "#: os.environ[\"PYTORCH_MPS_HIGH_WATERMARK_RATIO\"] = \"0.0\"\n",
    "\n",
    "vector_store = MongoDBAtlasVectorSearch.from_documents(\n",
    "    documents = docs,\n",
    "    embedding = model,\n",
    "    collection = db[\"embeddings\"],\n",
    "    index_name = \"vector_index\"\n",
    ")"
   ],
   "id": "84145c89f4f9893e",
   "outputs": [],
   "execution_count": 16
  },
  {
   "metadata": {},
   "cell_type": "code",
   "outputs": [],
   "execution_count": null,
   "source": "",
   "id": "1ecf6f15df309d39"
  }
 ],
 "metadata": {
  "kernelspec": {
   "display_name": "Python 3",
   "language": "python",
   "name": "python3"
  },
  "language_info": {
   "codemirror_mode": {
    "name": "ipython",
    "version": 2
   },
   "file_extension": ".py",
   "mimetype": "text/x-python",
   "name": "python",
   "nbconvert_exporter": "python",
   "pygments_lexer": "ipython2",
   "version": "2.7.6"
  }
 },
 "nbformat": 4,
 "nbformat_minor": 5
}
