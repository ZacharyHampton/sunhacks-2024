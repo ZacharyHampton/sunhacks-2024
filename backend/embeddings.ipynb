{
 "cells": [
  {
   "cell_type": "code",
   "id": "initial_id",
   "metadata": {
    "collapsed": true,
    "ExecuteTime": {
     "end_time": "2024-09-29T16:22:44.223309Z",
     "start_time": "2024-09-29T16:22:33.087523Z"
    }
   },
   "source": [
    "import pandas as pd\n",
    "from api.core.mongo import db\n",
    "from langchain_text_splitters import RecursiveJsonSplitter\n",
    "from nomic import embed\n",
    "import logging\n",
    "\n",
    "logging.basicConfig(level=logging.DEBUG)"
   ],
   "outputs": [
    {
     "name": "stderr",
     "output_type": "stream",
     "text": [
      "C:\\Users\\holmt\\PycharmProjects\\sunhacks-2024\\venv\\lib\\site-packages\\sentence_transformers\\cross_encoder\\CrossEncoder.py:13: TqdmWarning: IProgress not found. Please update jupyter and ipywidgets. See https://ipywidgets.readthedocs.io/en/stable/user_install.html\n",
      "  from tqdm.autonotebook import tqdm, trange\n"
     ]
    }
   ],
   "execution_count": 2
  },
  {
   "metadata": {
    "ExecuteTime": {
     "end_time": "2024-09-29T16:22:47.072597Z",
     "start_time": "2024-09-29T16:22:44.232286Z"
    }
   },
   "cell_type": "code",
   "source": [
    "rows = pd.DataFrame(list(db[\"products\"].find({\n",
    "    \"product_type\": {\"$in\": [\"ski\", \"phone\"]},\n",
    "}))).drop(columns=[\"_id\"]).to_dict(orient=\"records\")"
   ],
   "id": "d2c086dd0a535c72",
   "outputs": [
    {
     "name": "stderr",
     "output_type": "stream",
     "text": [
      "DEBUG:pymongo.serverSelection:{\"message\": \"Server selection started\", \"selector\": \"Primary()\", \"operation\": \"find\", \"topologyDescription\": \"<TopologyDescription id: 66f97ecd75bdd444ddb20511, topology_type: ReplicaSetWithPrimary, servers: [<ServerDescription ('cluster0-shard-00-00.6le3g.mongodb.net', 27017) server_type: RSSecondary, rtt: 0.04699999999957072>, <ServerDescription ('cluster0-shard-00-01.6le3g.mongodb.net', 27017) server_type: RSPrimary, rtt: 0.04699999999957072>, <ServerDescription ('cluster0-shard-00-02.6le3g.mongodb.net', 27017) server_type: RSSecondary, rtt: 0.04699999999957072>]>\", \"clientId\": {\"$oid\": \"66f97ecd75bdd444ddb20511\"}}\n",
      "DEBUG:pymongo.serverSelection:{\"message\": \"Server selection succeeded\", \"selector\": \"Primary()\", \"operation\": \"find\", \"topologyDescription\": \"<TopologyDescription id: 66f97ecd75bdd444ddb20511, topology_type: ReplicaSetWithPrimary, servers: [<ServerDescription ('cluster0-shard-00-00.6le3g.mongodb.net', 27017) server_type: RSSecondary, rtt: 0.04699999999957072>, <ServerDescription ('cluster0-shard-00-01.6le3g.mongodb.net', 27017) server_type: RSPrimary, rtt: 0.04699999999957072>, <ServerDescription ('cluster0-shard-00-02.6le3g.mongodb.net', 27017) server_type: RSSecondary, rtt: 0.04699999999957072>]>\", \"clientId\": {\"$oid\": \"66f97ecd75bdd444ddb20511\"}, \"serverHost\": \"cluster0-shard-00-01.6le3g.mongodb.net\", \"serverPort\": 27017}\n",
      "DEBUG:pymongo.connection:{\"clientId\": {\"$oid\": \"66f97ecd75bdd444ddb20511\"}, \"message\": \"Connection checkout started\", \"serverHost\": \"cluster0-shard-00-01.6le3g.mongodb.net\", \"serverPort\": 27017}\n",
      "DEBUG:pymongo.connection:{\"clientId\": {\"$oid\": \"66f97ecd75bdd444ddb20511\"}, \"message\": \"Connection created\", \"serverHost\": \"cluster0-shard-00-01.6le3g.mongodb.net\", \"serverPort\": 27017, \"driverConnectionId\": 1}\n",
      "DEBUG:pymongo.connection:{\"clientId\": {\"$oid\": \"66f97ecd75bdd444ddb20511\"}, \"message\": \"Connection ready\", \"serverHost\": \"cluster0-shard-00-01.6le3g.mongodb.net\", \"serverPort\": 27017, \"driverConnectionId\": 1, \"durationMS\": 0.17199999999957072}\n",
      "DEBUG:pymongo.connection:{\"clientId\": {\"$oid\": \"66f97ecd75bdd444ddb20511\"}, \"message\": \"Connection checked out\", \"serverHost\": \"cluster0-shard-00-01.6le3g.mongodb.net\", \"serverPort\": 27017, \"driverConnectionId\": 1, \"durationMS\": 0.34400000000005093}\n",
      "DEBUG:pymongo.command:{\"clientId\": {\"$oid\": \"66f97ecd75bdd444ddb20511\"}, \"message\": \"Command started\", \"command\": \"{\\\"find\\\": \\\"products\\\", \\\"filter\\\": {\\\"product_type\\\": {\\\"$in\\\": [\\\"ski\\\", \\\"phone\\\"]}}, \\\"lsid\\\": {\\\"id\\\": {\\\"$binary\\\": {\\\"base64\\\": \\\"YGh9B0wkQ2KI517yMstFGQ==\\\", \\\"subType\\\": \\\"04\\\"}}}, \\\"$clusterTime\\\": {\\\"clusterTime\\\": {\\\"$timestamp\\\": {\\\"t\\\": 1727626957, \\\"i\\\": 29}}, \\\"signature\\\": {\\\"hash\\\": {\\\"$binary\\\": {\\\"base64\\\": \\\"sAyNxQ9i+YMayl1ydlYnVc0XnYA=\\\", \\\"subType\\\": \\\"00\\\"}}, \\\"keyId\\\": 7366743771708391429}}, \\\"$db\\\": \\\"product_db\\\"}\", \"commandName\": \"find\", \"databaseName\": \"product_db\", \"requestId\": 26500, \"operationId\": 26500, \"driverConnectionId\": 1, \"serverConnectionId\": 329150, \"serverHost\": \"cluster0-shard-00-01.6le3g.mongodb.net\", \"serverPort\": 27017}\n",
      "DEBUG:pymongo.command:{\"clientId\": {\"$oid\": \"66f97ecd75bdd444ddb20511\"}, \"message\": \"Command succeeded\", \"durationMS\": 165.768, \"reply\": \"{\\\"cursor\\\": {\\\"firstBatch\\\": [{\\\"_id\\\": {\\\"$oid\\\": \\\"66f91f2af50d7cab4b2c39e3\\\"}, \\\"url\\\": \\\"https://www.gsmarena.com/samsung_galaxy_s24_fe-13262.php\\\", \\\"title\\\": \\\"Samsung Galaxy S24 FE\\\", \\\"image_url\\\": \\\"https://fdn2.gsmarena.com/vv/bigpic/samsung-galaxy-s24-fe-r1.jpg\\\", \\\"specifications\\\": {\\\"battery_size\\\": 4700.0, \\\"camera_resolution\\\": 50.0, \\\"colors\\\": [\\\"Blue\\\", \\\"Graphite\\\", \\\"Gray\\\", \\\"Mint\\\", \\\"Yellow\\\"], \\\"display_size\\\": 6.7, \\\"platform\\\": {\\\"chipset\\\": \\\"Exynos 2400e (4 nm)\\\", \\\"gpu\\\": \\\"Xclipse 940\\\"}, \\\"prices\\\": [{\\\"amount\\\": 649.99, \\\"currency\\\": \\\"$\\\", \\\"variant\\\": \\\"128GB 8GB RAM\\\", \\\"link\\\": \\\"https://www.samsung.com/us/mobile/phones/galaxy-s/galaxy-s24-fe-128gb-verizon-sm-s721uzkavzw/\\\"}, {\\\"amount\\\": 649.0, \\\"currency\\\": \\\"\\u00a3\\\", \\\"variant\\\": \\\"128GB 8GB RAM\\\", \\\"link\\\": \\\"https://www.amazon.co.uk/dp/B0DD3XZP7X?tag=gsmcom-21&linkCode=osi&th=1&psc=1\\\"}, {\\\"amount\\\": 709.99, \\\"currency\\\": \\\"$\\\", \\\"variant\\\": \\\"256GB 8GB RAM\\\", \\\"link\\\": \\\"https://www.samsung.com/us/mobile/phones/galaxy-s/galaxy-s24-fe-256gb-unlocked-sm-s721uzkexaa/\\\"}, {\\\"amount\\\": 699.0,...\", \"commandName\": \"find\", \"databaseName\": \"product_db\", \"requestId\": 26500, \"operationId\": 26500, \"driverConnectionId\": 1, \"serverConnectionId\": 329150, \"serverHost\": \"cluster0-shard-00-01.6le3g.mongodb.net\", \"serverPort\": 27017}\n",
      "DEBUG:pymongo.connection:{\"clientId\": {\"$oid\": \"66f97ecd75bdd444ddb20511\"}, \"message\": \"Connection checked in\", \"serverHost\": \"cluster0-shard-00-01.6le3g.mongodb.net\", \"serverPort\": 27017, \"driverConnectionId\": 1}\n",
      "DEBUG:pymongo.serverSelection:{\"message\": \"Server selection started\", \"selector\": \"<function any_server_selector at 0x0000026468143640>\", \"operation\": \"getMore\", \"topologyDescription\": \"<TopologyDescription id: 66f97ecd75bdd444ddb20511, topology_type: ReplicaSetWithPrimary, servers: [<ServerDescription ('cluster0-shard-00-00.6le3g.mongodb.net', 27017) server_type: RSSecondary, rtt: 0.04699999999957072>, <ServerDescription ('cluster0-shard-00-01.6le3g.mongodb.net', 27017) server_type: RSPrimary, rtt: 0.04699999999957072>, <ServerDescription ('cluster0-shard-00-02.6le3g.mongodb.net', 27017) server_type: RSSecondary, rtt: 0.04699999999957072>]>\", \"clientId\": {\"$oid\": \"66f97ecd75bdd444ddb20511\"}}\n",
      "DEBUG:pymongo.serverSelection:{\"message\": \"Server selection succeeded\", \"selector\": \"<function any_server_selector at 0x0000026468143640>\", \"operation\": \"getMore\", \"topologyDescription\": \"<TopologyDescription id: 66f97ecd75bdd444ddb20511, topology_type: ReplicaSetWithPrimary, servers: [<ServerDescription ('cluster0-shard-00-00.6le3g.mongodb.net', 27017) server_type: RSSecondary, rtt: 0.04699999999957072>, <ServerDescription ('cluster0-shard-00-01.6le3g.mongodb.net', 27017) server_type: RSPrimary, rtt: 0.04699999999957072>, <ServerDescription ('cluster0-shard-00-02.6le3g.mongodb.net', 27017) server_type: RSSecondary, rtt: 0.04699999999957072>]>\", \"clientId\": {\"$oid\": \"66f97ecd75bdd444ddb20511\"}, \"serverHost\": \"cluster0-shard-00-01.6le3g.mongodb.net\", \"serverPort\": 27017}\n",
      "DEBUG:pymongo.connection:{\"clientId\": {\"$oid\": \"66f97ecd75bdd444ddb20511\"}, \"message\": \"Connection checkout started\", \"serverHost\": \"cluster0-shard-00-01.6le3g.mongodb.net\", \"serverPort\": 27017}\n",
      "DEBUG:pymongo.connection:{\"clientId\": {\"$oid\": \"66f97ecd75bdd444ddb20511\"}, \"message\": \"Connection checked out\", \"serverHost\": \"cluster0-shard-00-01.6le3g.mongodb.net\", \"serverPort\": 27017, \"driverConnectionId\": 1, \"durationMS\": 0.0}\n",
      "DEBUG:pymongo.command:{\"clientId\": {\"$oid\": \"66f97ecd75bdd444ddb20511\"}, \"message\": \"Command started\", \"command\": \"{\\\"getMore\\\": 1373944758021333818, \\\"collection\\\": \\\"products\\\", \\\"lsid\\\": {\\\"id\\\": {\\\"$binary\\\": {\\\"base64\\\": \\\"YGh9B0wkQ2KI517yMstFGQ==\\\", \\\"subType\\\": \\\"04\\\"}}}, \\\"$clusterTime\\\": {\\\"clusterTime\\\": {\\\"$timestamp\\\": {\\\"t\\\": 1727626964, \\\"i\\\": 9}}, \\\"signature\\\": {\\\"hash\\\": {\\\"$binary\\\": {\\\"base64\\\": \\\"adZx7ZtqGFrJDMaj+klwV9jBjgo=\\\", \\\"subType\\\": \\\"00\\\"}}, \\\"keyId\\\": 7366743771708391429}}, \\\"$db\\\": \\\"product_db\\\"}\", \"commandName\": \"getMore\", \"databaseName\": \"product_db\", \"requestId\": 19169, \"operationId\": 19169, \"driverConnectionId\": 1, \"serverConnectionId\": 329150, \"serverHost\": \"cluster0-shard-00-01.6le3g.mongodb.net\", \"serverPort\": 27017}\n",
      "DEBUG:pymongo.command:{\"clientId\": {\"$oid\": \"66f97ecd75bdd444ddb20511\"}, \"message\": \"Command succeeded\", \"durationMS\": 2307.404, \"reply\": \"{\\\"cursor\\\": {\\\"nextBatch\\\": [{\\\"_id\\\": {\\\"$oid\\\": \\\"66f91f2af50d7cab4b2c3a48\\\"}, \\\"url\\\": \\\"https://www.gsmarena.com/samsung_galaxy_m22-11011.php\\\", \\\"title\\\": \\\"Samsung Galaxy M22\\\", \\\"image_url\\\": \\\"https://fdn2.gsmarena.com/vv/bigpic/samsung-galaxy-m22-.jpg\\\", \\\"specifications\\\": {\\\"battery_size\\\": 5000.0, \\\"camera_resolution\\\": 48.0, \\\"colors\\\": [\\\"Black\\\", \\\"White\\\", \\\"Light Blue\\\"], \\\"display_size\\\": 6.4, \\\"platform\\\": {\\\"chipset\\\": \\\"Mediatek MT6769V/CU Helio G80 (12 nm)\\\", \\\"gpu\\\": \\\"Mali-G52 MC2\\\"}, \\\"ram\\\": [4.0, 6.0]}, \\\"product_type\\\": \\\"phone\\\"}, {\\\"_id\\\": {\\\"$oid\\\": \\\"66f91f2af50d7cab4b2c3a49\\\"}, \\\"url\\\": \\\"https://www.gsmarena.com/samsung_galaxy_m32_5g-11062.php\\\", \\\"title\\\": \\\"Samsung Galaxy M32 5G\\\", \\\"image_url\\\": \\\"https://fdn2.gsmarena.com/vv/bigpic/samsung-galaxy-m32-5g-new.jpg\\\", \\\"specifications\\\": {\\\"battery_size\\\": 5000.0, \\\"camera_resolution\\\": 48.0, \\\"colors\\\": [\\\"Slate Black\\\", \\\"Sky Blue\\\"], \\\"display_size\\\": 6.5, \\\"platform\\\": {\\\"chipset\\\": \\\"Mediatek Dimensity 720 (7 nm)\\\", \\\"gpu\\\": \\\"Mali-G57 MC3\\\"}, \\\"ram\\\": [6.0, 8.0]}, \\\"product_type\\\": \\\"phone\\\"}, {...\", \"commandName\": \"getMore\", \"databaseName\": \"product_db\", \"requestId\": 19169, \"operationId\": 19169, \"driverConnectionId\": 1, \"serverConnectionId\": 329150, \"serverHost\": \"cluster0-shard-00-01.6le3g.mongodb.net\", \"serverPort\": 27017}\n",
      "DEBUG:pymongo.connection:{\"clientId\": {\"$oid\": \"66f97ecd75bdd444ddb20511\"}, \"message\": \"Connection checked in\", \"serverHost\": \"cluster0-shard-00-01.6le3g.mongodb.net\", \"serverPort\": 27017, \"driverConnectionId\": 1}\n"
     ]
    }
   ],
   "execution_count": 3
  },
  {
   "metadata": {
    "ExecuteTime": {
     "end_time": "2024-09-29T16:22:51.301662Z",
     "start_time": "2024-09-29T16:22:47.089630Z"
    }
   },
   "cell_type": "code",
   "source": [
    "splitter = RecursiveJsonSplitter(max_chunk_size=300)\n",
    "documents = splitter.create_documents(rows)"
   ],
   "id": "eea83fda5fc16b5b",
   "outputs": [
    {
     "name": "stderr",
     "output_type": "stream",
     "text": [
      "INFO:sentence_transformers.SentenceTransformer:Use pytorch device_name: cpu\n",
      "INFO:sentence_transformers.SentenceTransformer:Load pretrained SentenceTransformer: nomic-ai/nomic-embed-text-v1\n",
      "DEBUG:urllib3.connectionpool:Starting new HTTPS connection (1): huggingface.co:443\n",
      "DEBUG:urllib3.connectionpool:https://huggingface.co:443 \"HEAD /nomic-ai/nomic-embed-text-v1/resolve/main/modules.json HTTP/11\" 200 0\n",
      "DEBUG:urllib3.connectionpool:https://huggingface.co:443 \"HEAD /nomic-ai/nomic-embed-text-v1/resolve/main/config_sentence_transformers.json HTTP/11\" 200 0\n",
      "DEBUG:urllib3.connectionpool:https://huggingface.co:443 \"HEAD /nomic-ai/nomic-embed-text-v1/resolve/main/README.md HTTP/11\" 200 0\n",
      "DEBUG:urllib3.connectionpool:https://huggingface.co:443 \"HEAD /nomic-ai/nomic-embed-text-v1/resolve/main/modules.json HTTP/11\" 200 0\n",
      "DEBUG:urllib3.connectionpool:https://huggingface.co:443 \"HEAD /nomic-ai/nomic-embed-text-v1/resolve/main/sentence_bert_config.json HTTP/11\" 200 0\n",
      "DEBUG:urllib3.connectionpool:https://huggingface.co:443 \"HEAD /nomic-ai/nomic-embed-text-v1/resolve/main/config.json HTTP/11\" 200 0\n",
      "DEBUG:urllib3.connectionpool:https://huggingface.co:443 \"HEAD /nomic-ai/nomic-bert-2048/resolve/main/configuration_hf_nomic_bert.py HTTP/11\" 200 0\n",
      "DEBUG:urllib3.connectionpool:https://huggingface.co:443 \"HEAD /nomic-ai/nomic-embed-text-v1/resolve/main/config.json HTTP/11\" 200 0\n",
      "DEBUG:urllib3.connectionpool:https://huggingface.co:443 \"HEAD /nomic-ai/nomic-bert-2048/resolve/main/modeling_hf_nomic_bert.py HTTP/11\" 200 0\n",
      "DEBUG:urllib3.connectionpool:https://huggingface.co:443 \"HEAD /nomic-ai/nomic-embed-text-v1/resolve/main/pytorch_model.bin HTTP/11\" 302 0\n",
      "C:\\Users\\holmt\\.cache\\huggingface\\modules\\transformers_modules\\nomic-ai\\nomic-bert-2048\\4bb68f63016e88e53e48df904c6ab4e6f718e198\\modeling_hf_nomic_bert.py:98: FutureWarning: You are using `torch.load` with `weights_only=False` (the current default value), which uses the default pickle module implicitly. It is possible to construct malicious pickle data which will execute arbitrary code during unpickling (See https://github.com/pytorch/pytorch/blob/main/SECURITY.md#untrusted-models for more details). In a future release, the default value for `weights_only` will be flipped to `True`. This limits the functions that could be executed during unpickling. Arbitrary objects will no longer be allowed to be loaded via this mode unless they are explicitly allowlisted by the user via `torch.serialization.add_safe_globals`. We recommend you start setting `weights_only=True` for any use case where you don't have full control of the loaded file. Please open an issue on GitHub for any issues related to this experimental feature.\n",
      "  state_dict = loader(resolved_archive_file)\n",
      "WARNING:transformers_modules.nomic-ai.nomic-bert-2048.4bb68f63016e88e53e48df904c6ab4e6f718e198.modeling_hf_nomic_bert:<All keys matched successfully>\n",
      "DEBUG:urllib3.connectionpool:https://huggingface.co:443 \"HEAD /nomic-ai/nomic-embed-text-v1/resolve/main/tokenizer_config.json HTTP/11\" 200 0\n",
      "DEBUG:urllib3.connectionpool:https://huggingface.co:443 \"GET /api/models/nomic-ai/nomic-embed-text-v1/revision/main HTTP/11\" 200 147084\n",
      "DEBUG:urllib3.connectionpool:https://huggingface.co:443 \"GET /api/models/nomic-ai/nomic-embed-text-v1 HTTP/11\" 200 147084\n"
     ]
    }
   ],
   "execution_count": 4
  },
  {
   "metadata": {
    "ExecuteTime": {
     "start_time": "2024-09-29T16:22:51.318517Z"
    }
   },
   "cell_type": "code",
   "source": [
    "# Store the data as vector embeddings in Atlas\n",
    "\n",
    "embeddings = embed.text([document.page_content for document in documents], inference_mode=\"local\")\n",
    "db[\"embeddings\"].insert_many(embeddings[\"embeddings\"])\n",
    "        "
   ],
   "id": "84145c89f4f9893e",
   "outputs": [
    {
     "name": "stderr",
     "output_type": "stream",
     "text": [
      "DEBUG:urllib3.connectionpool:Starting new HTTPS connection (1): gpt4all.io:443\n",
      "DEBUG:urllib3.connectionpool:https://gpt4all.io:443 \"GET /models/models3.json HTTP/11\" 301 167\n",
      "DEBUG:urllib3.connectionpool:Starting new HTTPS connection (1): raw.githubusercontent.com:443\n",
      "DEBUG:urllib3.connectionpool:https://raw.githubusercontent.com:443 \"GET /nomic-ai/gpt4all/main/gpt4all-chat/metadata/models3.json HTTP/11\" 200 4020\n",
      "DEBUG:urllib3.connectionpool:Starting new HTTPS connection (1): gpt4all.io:443\n",
      "DEBUG:urllib3.connectionpool:https://gpt4all.io:443 \"GET /models/gguf/nomic-embed-text-v1.5.f16.gguf HTTP/11\" 200 274290560\n",
      "Downloading:  97%|█████████▋| 266M/274M [04:29<00:39, 203kiB/s]  \n",
      "Download interrupted, resuming from byte position 268435456\n",
      "DEBUG:urllib3.connectionpool:Starting new HTTPS connection (1): gpt4all.io:443\n",
      "DEBUG:urllib3.connectionpool:https://gpt4all.io:443 \"GET /models/gguf/nomic-embed-text-v1.5.f16.gguf HTTP/11\" 206 5855104\n",
      "Downloading: 100%|██████████| 274M/274M [04:30<00:00, 1.02MiB/s]\n",
      "Verifying: 100%|██████████| 274M/274M [00:00<00:00, 725MiB/s] \n"
     ]
    }
   ],
   "execution_count": null
  },
  {
   "metadata": {},
   "cell_type": "code",
   "outputs": [],
   "execution_count": null,
   "source": "",
   "id": "89888bb59c734dcf"
  }
 ],
 "metadata": {
  "kernelspec": {
   "display_name": "Python 3",
   "language": "python",
   "name": "python3"
  },
  "language_info": {
   "codemirror_mode": {
    "name": "ipython",
    "version": 2
   },
   "file_extension": ".py",
   "mimetype": "text/x-python",
   "name": "python",
   "nbconvert_exporter": "python",
   "pygments_lexer": "ipython2",
   "version": "2.7.6"
  }
 },
 "nbformat": 4,
 "nbformat_minor": 5
}
