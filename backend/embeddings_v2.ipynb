{
 "cells": [
  {
   "cell_type": "code",
   "id": "initial_id",
   "metadata": {
    "collapsed": true,
    "ExecuteTime": {
     "end_time": "2024-09-29T16:44:52.862394Z",
     "start_time": "2024-09-29T16:44:47.464728Z"
    }
   },
   "source": [
    "import pandas as pd\n",
    "from api.core.mongo import db\n",
    "from langchain_text_splitters import RecursiveJsonSplitter\n",
    "from nomic import embed\n",
    "import logging\n",
    "\n",
    "logging.basicConfig(level=logging.DEBUG)"
   ],
   "outputs": [],
   "execution_count": 1
  },
  {
   "metadata": {
    "ExecuteTime": {
     "end_time": "2024-09-29T16:44:55.241988Z",
     "start_time": "2024-09-29T16:44:52.867355Z"
    }
   },
   "cell_type": "code",
   "source": [
    "rows = pd.DataFrame(list(db[\"products\"].find({\n",
    "    \"product_type\": {\"$in\": [\"ski\", \"phone\"]},\n",
    "}))).drop(columns=[\"_id\"]).to_dict(orient=\"records\")"
   ],
   "id": "d2c086dd0a535c72",
   "outputs": [
    {
     "name": "stderr",
     "output_type": "stream",
     "text": [
      "DEBUG:pymongo.serverSelection:{\"message\": \"Server selection started\", \"selector\": \"Primary()\", \"operation\": \"find\", \"topologyDescription\": \"<TopologyDescription id: 66f98404081255c9e70a576c, topology_type: ReplicaSetWithPrimary, servers: [<ServerDescription ('cluster0-shard-00-00.6le3g.mongodb.net', 27017) server_type: RSSecondary, rtt: 0.06199999999989814>, <ServerDescription ('cluster0-shard-00-01.6le3g.mongodb.net', 27017) server_type: Unknown, rtt: None>, <ServerDescription ('cluster0-shard-00-02.6le3g.mongodb.net', 27017) server_type: RSPrimary, rtt: 0.06199999999989814>]>\", \"clientId\": {\"$oid\": \"66f98404081255c9e70a576c\"}}\n",
      "DEBUG:pymongo.serverSelection:{\"message\": \"Server selection succeeded\", \"selector\": \"Primary()\", \"operation\": \"find\", \"topologyDescription\": \"<TopologyDescription id: 66f98404081255c9e70a576c, topology_type: ReplicaSetWithPrimary, servers: [<ServerDescription ('cluster0-shard-00-00.6le3g.mongodb.net', 27017) server_type: RSSecondary, rtt: 0.06199999999989814>, <ServerDescription ('cluster0-shard-00-01.6le3g.mongodb.net', 27017) server_type: Unknown, rtt: None>, <ServerDescription ('cluster0-shard-00-02.6le3g.mongodb.net', 27017) server_type: RSPrimary, rtt: 0.06199999999989814>]>\", \"clientId\": {\"$oid\": \"66f98404081255c9e70a576c\"}, \"serverHost\": \"cluster0-shard-00-02.6le3g.mongodb.net\", \"serverPort\": 27017}\n",
      "DEBUG:pymongo.connection:{\"clientId\": {\"$oid\": \"66f98404081255c9e70a576c\"}, \"message\": \"Connection checkout started\", \"serverHost\": \"cluster0-shard-00-02.6le3g.mongodb.net\", \"serverPort\": 27017}\n",
      "DEBUG:pymongo.connection:{\"clientId\": {\"$oid\": \"66f98404081255c9e70a576c\"}, \"message\": \"Connection created\", \"serverHost\": \"cluster0-shard-00-02.6le3g.mongodb.net\", \"serverPort\": 27017, \"driverConnectionId\": 1}\n",
      "DEBUG:pymongo.connection:{\"clientId\": {\"$oid\": \"66f98404081255c9e70a576c\"}, \"message\": \"Connection ready\", \"serverHost\": \"cluster0-shard-00-02.6le3g.mongodb.net\", \"serverPort\": 27017, \"driverConnectionId\": 1, \"durationMS\": 0.17199999999957072}\n",
      "DEBUG:pymongo.connection:{\"clientId\": {\"$oid\": \"66f98404081255c9e70a576c\"}, \"message\": \"Connection checked out\", \"serverHost\": \"cluster0-shard-00-02.6le3g.mongodb.net\", \"serverPort\": 27017, \"driverConnectionId\": 1, \"durationMS\": 0.3289999999997235}\n",
      "DEBUG:pymongo.command:{\"clientId\": {\"$oid\": \"66f98404081255c9e70a576c\"}, \"message\": \"Command started\", \"command\": \"{\\\"find\\\": \\\"products\\\", \\\"filter\\\": {\\\"product_type\\\": {\\\"$in\\\": [\\\"ski\\\", \\\"phone\\\"]}}, \\\"lsid\\\": {\\\"id\\\": {\\\"$binary\\\": {\\\"base64\\\": \\\"W9mKEd8CQ9Wr7ynuBgxSKw==\\\", \\\"subType\\\": \\\"04\\\"}}}, \\\"$clusterTime\\\": {\\\"clusterTime\\\": {\\\"$timestamp\\\": {\\\"t\\\": 1727628292, \\\"i\\\": 3}}, \\\"signature\\\": {\\\"hash\\\": {\\\"$binary\\\": {\\\"base64\\\": \\\"nHqSbRKtOcSxhStKcwKSwULlomk=\\\", \\\"subType\\\": \\\"00\\\"}}, \\\"keyId\\\": 7366743771708391429}}, \\\"$db\\\": \\\"product_db\\\"}\", \"commandName\": \"find\", \"databaseName\": \"product_db\", \"requestId\": 26500, \"operationId\": 26500, \"driverConnectionId\": 1, \"serverConnectionId\": 1401, \"serverHost\": \"cluster0-shard-00-02.6le3g.mongodb.net\", \"serverPort\": 27017}\n",
      "DEBUG:pymongo.command:{\"clientId\": {\"$oid\": \"66f98404081255c9e70a576c\"}, \"message\": \"Command succeeded\", \"durationMS\": 189.576, \"reply\": \"{\\\"cursor\\\": {\\\"firstBatch\\\": [{\\\"_id\\\": {\\\"$oid\\\": \\\"66f91f2af50d7cab4b2c39f1\\\"}, \\\"url\\\": \\\"https://www.gsmarena.com/samsung_galaxy_f55-12885.php\\\", \\\"title\\\": \\\"Samsung Galaxy F55\\\", \\\"image_url\\\": \\\"https://fdn2.gsmarena.com/vv/bigpic/samsung-galaxy-f55.jpg\\\", \\\"specifications\\\": {\\\"battery_size\\\": 5000.0, \\\"camera_resolution\\\": 50.0, \\\"colors\\\": [\\\"Black\\\", \\\"Apricot\\\"], \\\"display_size\\\": 6.7, \\\"platform\\\": {\\\"chipset\\\": \\\"Qualcomm SM7450-AB Snapdragon 7 Gen 1 (4 nm)\\\", \\\"gpu\\\": \\\"Adreno 644\\\"}, \\\"prices\\\": [{\\\"amount\\\": 19643.0, \\\"currency\\\": \\\"\\u20b9\\\", \\\"variant\\\": \\\"128GB 8GB RAM\\\", \\\"link\\\": \\\"https://www.amazon.in/dp/B0D5VMSM5D?tag=gsmcom05-21&linkCode=osi&th=1&psc=1\\\"}, {\\\"amount\\\": 22648.0, \\\"currency\\\": \\\"\\u20b9\\\", \\\"variant\\\": \\\"256GB 8GB RAM\\\", \\\"link\\\": \\\"https://www.amazon.in/dp/B0DFQK5XDJ?tag=gsmcom05-21&linkCode=osi&th=1&psc=1\\\"}], \\\"ram\\\": [8.0, 12.0]}, \\\"product_type\\\": \\\"phone\\\"}, {\\\"_id\\\": {\\\"$oid\\\": \\\"66f91f2af50d7cab4b2c39e6\\\"}, \\\"url\\\": \\\"https://www.gsmarena.com/samsung_galaxy_m55s-13354.php\\\", \\\"title\\\": \\\"Samsung Galaxy M55s\\\", \\\"image_url\\\": \\\"https://...\", \"commandName\": \"find\", \"databaseName\": \"product_db\", \"requestId\": 26500, \"operationId\": 26500, \"driverConnectionId\": 1, \"serverConnectionId\": 1401, \"serverHost\": \"cluster0-shard-00-02.6le3g.mongodb.net\", \"serverPort\": 27017}\n",
      "DEBUG:pymongo.connection:{\"clientId\": {\"$oid\": \"66f98404081255c9e70a576c\"}, \"message\": \"Connection checked in\", \"serverHost\": \"cluster0-shard-00-02.6le3g.mongodb.net\", \"serverPort\": 27017, \"driverConnectionId\": 1}\n",
      "DEBUG:pymongo.serverSelection:{\"message\": \"Server selection started\", \"selector\": \"<function any_server_selector at 0x0000017C65696DD0>\", \"operation\": \"getMore\", \"topologyDescription\": \"<TopologyDescription id: 66f98404081255c9e70a576c, topology_type: ReplicaSetWithPrimary, servers: [<ServerDescription ('cluster0-shard-00-00.6le3g.mongodb.net', 27017) server_type: RSSecondary, rtt: 0.06199999999989814>, <ServerDescription ('cluster0-shard-00-01.6le3g.mongodb.net', 27017) server_type: Unknown, rtt: None>, <ServerDescription ('cluster0-shard-00-02.6le3g.mongodb.net', 27017) server_type: RSPrimary, rtt: 0.06199999999989814>]>\", \"clientId\": {\"$oid\": \"66f98404081255c9e70a576c\"}}\n",
      "DEBUG:pymongo.serverSelection:{\"message\": \"Server selection succeeded\", \"selector\": \"<function any_server_selector at 0x0000017C65696DD0>\", \"operation\": \"getMore\", \"topologyDescription\": \"<TopologyDescription id: 66f98404081255c9e70a576c, topology_type: ReplicaSetWithPrimary, servers: [<ServerDescription ('cluster0-shard-00-00.6le3g.mongodb.net', 27017) server_type: RSSecondary, rtt: 0.06199999999989814>, <ServerDescription ('cluster0-shard-00-01.6le3g.mongodb.net', 27017) server_type: Unknown, rtt: None>, <ServerDescription ('cluster0-shard-00-02.6le3g.mongodb.net', 27017) server_type: RSPrimary, rtt: 0.06199999999989814>]>\", \"clientId\": {\"$oid\": \"66f98404081255c9e70a576c\"}, \"serverHost\": \"cluster0-shard-00-02.6le3g.mongodb.net\", \"serverPort\": 27017}\n",
      "DEBUG:pymongo.connection:{\"clientId\": {\"$oid\": \"66f98404081255c9e70a576c\"}, \"message\": \"Connection checkout started\", \"serverHost\": \"cluster0-shard-00-02.6le3g.mongodb.net\", \"serverPort\": 27017}\n",
      "DEBUG:pymongo.connection:{\"clientId\": {\"$oid\": \"66f98404081255c9e70a576c\"}, \"message\": \"Connection checked out\", \"serverHost\": \"cluster0-shard-00-02.6le3g.mongodb.net\", \"serverPort\": 27017, \"driverConnectionId\": 1, \"durationMS\": 0.0}\n",
      "DEBUG:pymongo.command:{\"clientId\": {\"$oid\": \"66f98404081255c9e70a576c\"}, \"message\": \"Command started\", \"command\": \"{\\\"getMore\\\": 8856501617956385830, \\\"collection\\\": \\\"products\\\", \\\"lsid\\\": {\\\"id\\\": {\\\"$binary\\\": {\\\"base64\\\": \\\"W9mKEd8CQ9Wr7ynuBgxSKw==\\\", \\\"subType\\\": \\\"04\\\"}}}, \\\"$clusterTime\\\": {\\\"clusterTime\\\": {\\\"$timestamp\\\": {\\\"t\\\": 1727628292, \\\"i\\\": 30}}, \\\"signature\\\": {\\\"hash\\\": {\\\"$binary\\\": {\\\"base64\\\": \\\"nHqSbRKtOcSxhStKcwKSwULlomk=\\\", \\\"subType\\\": \\\"00\\\"}}, \\\"keyId\\\": 7366743771708391429}}, \\\"$db\\\": \\\"product_db\\\"}\", \"commandName\": \"getMore\", \"databaseName\": \"product_db\", \"requestId\": 19169, \"operationId\": 19169, \"driverConnectionId\": 1, \"serverConnectionId\": 1401, \"serverHost\": \"cluster0-shard-00-02.6le3g.mongodb.net\", \"serverPort\": 27017}\n",
      "DEBUG:pymongo.command:{\"clientId\": {\"$oid\": \"66f98404081255c9e70a576c\"}, \"message\": \"Command succeeded\", \"durationMS\": 1815.796, \"reply\": \"{\\\"cursor\\\": {\\\"nextBatch\\\": [{\\\"_id\\\": {\\\"$oid\\\": \\\"66f91f2af50d7cab4b2c3a51\\\"}, \\\"url\\\": \\\"https://www.gsmarena.com/samsung_galaxy_a12_nacho-11041.php\\\", \\\"title\\\": \\\"Samsung Galaxy A12 Nacho\\\", \\\"image_url\\\": \\\"https://fdn2.gsmarena.com/vv/bigpic/samsung-galaxy-a12-nacho.jpg\\\", \\\"specifications\\\": {\\\"battery_size\\\": 5000.0, \\\"camera_resolution\\\": 48.0, \\\"colors\\\": [\\\"Black\\\", \\\"Blue\\\", \\\"Red\\\"], \\\"display_size\\\": 6.5, \\\"platform\\\": {\\\"chipset\\\": \\\"Exynos 850 (8 nm)\\\", \\\"gpu\\\": \\\"Mali-G52\\\"}, \\\"prices\\\": [{\\\"amount\\\": 149.0, \\\"currency\\\": \\\"$\\\", \\\"variant\\\": \\\"32GB 3GB RAM\\\", \\\"link\\\": \\\"https://www.amazon.com/dp/B09JPDCBPG?tag=gsmarena093-20&linkCode=osi&th=1&psc=1\\\"}, {\\\"amount\\\": 159.99, \\\"currency\\\": \\\"\\u00a3\\\", \\\"variant\\\": \\\"64GB 4GB RAM\\\", \\\"link\\\": \\\"https://www.amazon.co.uk/dp/B09M437MCZ?tag=gsmcom-21&linkCode=osi&th=1&psc=1\\\"}, {\\\"amount\\\": 197.0, \\\"currency\\\": \\\"\\u20ac\\\", \\\"variant\\\": \\\"128GB 4GB RAM\\\", \\\"link\\\": \\\"https://www.amazon.de/dp/B0989SXX31?tag=gsmarena0ca-21&linkCode=osi&th=1&psc=1\\\"}], \\\"ram\\\": [3.0, 4.0]}, \\\"product_type\\\": \\\"phone\\\"}, {\\\"_id\\\": {\\\"$oid\\\": \\\"66...\", \"commandName\": \"getMore\", \"databaseName\": \"product_db\", \"requestId\": 19169, \"operationId\": 19169, \"driverConnectionId\": 1, \"serverConnectionId\": 1401, \"serverHost\": \"cluster0-shard-00-02.6le3g.mongodb.net\", \"serverPort\": 27017}\n",
      "DEBUG:pymongo.connection:{\"clientId\": {\"$oid\": \"66f98404081255c9e70a576c\"}, \"message\": \"Connection checked in\", \"serverHost\": \"cluster0-shard-00-02.6le3g.mongodb.net\", \"serverPort\": 27017, \"driverConnectionId\": 1}\n"
     ]
    }
   ],
   "execution_count": 2
  },
  {
   "metadata": {
    "ExecuteTime": {
     "end_time": "2024-09-29T16:44:56.214389Z",
     "start_time": "2024-09-29T16:44:55.483344Z"
    }
   },
   "cell_type": "code",
   "source": [
    "splitter = RecursiveJsonSplitter(max_chunk_size=300)\n",
    "documents = splitter.create_documents(rows)"
   ],
   "id": "eea83fda5fc16b5b",
   "outputs": [],
   "execution_count": 3
  },
  {
   "metadata": {
    "jupyter": {
     "is_executing": true
    },
    "ExecuteTime": {
     "start_time": "2024-09-29T16:53:43.382741Z"
    }
   },
   "cell_type": "code",
   "source": [
    "# Store the data as vector embeddings in Atlas\n",
    "\n",
    "#: create groups of 100 documents\n",
    "for i in range(0, len(documents), 100):\n",
    "    embeddings = embed.text([document.page_content for document in documents[i:i+100]], inference_mode=\"local\")\n",
    "    db[\"embeddings\"].insert_many([{\n",
    "        \"embedding\": embedding\n",
    "    } for embedding in embeddings[\"embeddings\"]])\n",
    "    print(f\"Inserted {i+100} documents\")\n",
    "        "
   ],
   "id": "84145c89f4f9893e",
   "outputs": [],
   "execution_count": null
  },
  {
   "metadata": {},
   "cell_type": "code",
   "outputs": [],
   "execution_count": null,
   "source": "",
   "id": "89888bb59c734dcf"
  }
 ],
 "metadata": {
  "kernelspec": {
   "display_name": "Python 3",
   "language": "python",
   "name": "python3"
  },
  "language_info": {
   "codemirror_mode": {
    "name": "ipython",
    "version": 2
   },
   "file_extension": ".py",
   "mimetype": "text/x-python",
   "name": "python",
   "nbconvert_exporter": "python",
   "pygments_lexer": "ipython2",
   "version": "2.7.6"
  }
 },
 "nbformat": 4,
 "nbformat_minor": 5
}
